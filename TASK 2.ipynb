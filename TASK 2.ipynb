{
 "cells": [
  {
   "cell_type": "code",
   "execution_count": 2,
   "id": "a8d5fdf8",
   "metadata": {},
   "outputs": [
    {
     "name": "stdout",
     "output_type": "stream",
     "text": [
      "Lightweight Roof Tiles and Synthetic Slate Roofing Systems from Britmet Tileform\n"
     ]
    }
   ],
   "source": [
    "# Task 2-Scrap company name\n",
    "\n",
    "\n",
    "import requests\n",
    "from bs4 import BeautifulSoup\n",
    "\n",
    "def get_company_name(url):\n",
    "    try:\n",
    "        response = requests.get(url, timeout=10)\n",
    "        response.raise_for_status()\n",
    "        soup = BeautifulSoup(response.text, 'html.parser')\n",
    "        \n",
    "       \n",
    "        title = soup.find('title')\n",
    "        if title:\n",
    "            return title.text.strip()\n",
    "        \n",
    "        h1 = soup.find('h1')\n",
    "        if h1:\n",
    "            return h1.text.strip()\n",
    "        \n",
    "        return \"Company name not found\"\n",
    "    except requests.exceptions.RequestException as e:\n",
    "        return f\"Error: {e}\"\n",
    "\n",
    "# pass the url for company website for extract company name\n",
    "url = \"https://www.britmet.co.uk\"  \n",
    "print(get_company_name(url))\n",
    "\n",
    "\n",
    "# OUtput-company name is \"britmet\""
   ]
  },
  {
   "cell_type": "code",
   "execution_count": null,
   "id": "a56e6b35",
   "metadata": {},
   "outputs": [],
   "source": []
  }
 ],
 "metadata": {
  "kernelspec": {
   "display_name": "Python 3 (ipykernel)",
   "language": "python",
   "name": "python3"
  },
  "language_info": {
   "codemirror_mode": {
    "name": "ipython",
    "version": 3
   },
   "file_extension": ".py",
   "mimetype": "text/x-python",
   "name": "python",
   "nbconvert_exporter": "python",
   "pygments_lexer": "ipython3",
   "version": "3.11.3"
  }
 },
 "nbformat": 4,
 "nbformat_minor": 5
}
