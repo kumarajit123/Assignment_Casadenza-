{
 "cells": [
  {
   "cell_type": "code",
   "execution_count": 13,
   "id": "78edea2f",
   "metadata": {},
   "outputs": [
    {
     "name": "stdout",
     "output_type": "stream",
     "text": [
      "                   using chatgpt  industry  Country\n",
      "0  https://www.pgtindustries.com       NaN      NaN\n",
      "1      https://www.britmet.co.uk       NaN      NaN\n",
      "2         https://www.ahlsell.no       NaN      NaN\n",
      "3    https://www.instadoor.co.uk       NaN      NaN\n",
      "4      https://www.metromont.com       NaN      NaN\n"
     ]
    }
   ],
   "source": [
    "import pandas as pd\n",
    "\n",
    "# Read the first sheet of an Excel file\n",
    "df = pd.read_excel(\"Assignment Data Analyst.xlsx\")  \n",
    "\n",
    "# Display the first few rows\n",
    "print(df.head())\n"
   ]
  },
  {
   "cell_type": "code",
   "execution_count": 43,
   "id": "50725f21",
   "metadata": {},
   "outputs": [
    {
     "name": "stdout",
     "output_type": "stream",
     "text": [
      "Data saved successfully to Company_Data.xlsx\n"
     ]
    }
   ],
   "source": [
    "import requests\n",
    "from bs4 import BeautifulSoup\n",
    "import pandas as pd\n",
    "\n",
    "# URL of the website\n",
    "url = \"https://www.pipmarine.com\"\n",
    "\n",
    "# Send HTTP request\n",
    "headers = {\"User-Agent\": \"Mozilla/5.0\"}\n",
    "response = requests.get(url, headers=headers)\n",
    "\n",
    "if response.status_code == 200:\n",
    "    soup = BeautifulSoup(response.text, \"html.parser\")\n",
    "    \n",
    "   \n",
    "    company_name = soup.find(\"title\").text.strip()  # Extracting title as company name\n",
    "    \n",
    "   \n",
    "#     country = \"USA\"  \n",
    "\n",
    "    # Store in a DataFrame\n",
    "    data = pd.DataFrame({\"Company Name\": [company_name], \"Country\": [country]})\n",
    "    \n",
    "    # Save to Excel\n",
    "    data.to_excel(\"Assignment Data Analyst.xlsx\", index=False)\n",
    "    \n",
    "    print(\"Data saved successfully to Company_Data.xlsx\")\n",
    "else:\n",
    "    print(\"Failed to fetch the website\")\n",
    "\n"
   ]
  },
  {
   "cell_type": "code",
   "execution_count": 45,
   "id": "071b2cd3",
   "metadata": {},
   "outputs": [
    {
     "data": {
      "text/html": [
       "<div>\n",
       "<style scoped>\n",
       "    .dataframe tbody tr th:only-of-type {\n",
       "        vertical-align: middle;\n",
       "    }\n",
       "\n",
       "    .dataframe tbody tr th {\n",
       "        vertical-align: top;\n",
       "    }\n",
       "\n",
       "    .dataframe thead th {\n",
       "        text-align: right;\n",
       "    }\n",
       "</style>\n",
       "<table border=\"1\" class=\"dataframe\">\n",
       "  <thead>\n",
       "    <tr style=\"text-align: right;\">\n",
       "      <th></th>\n",
       "      <th>Company Name</th>\n",
       "      <th>Country</th>\n",
       "    </tr>\n",
       "  </thead>\n",
       "  <tbody>\n",
       "    <tr>\n",
       "      <th>0</th>\n",
       "      <td>The Fence Authority | Your New Fence Is Waiting</td>\n",
       "      <td>USA</td>\n",
       "    </tr>\n",
       "  </tbody>\n",
       "</table>\n",
       "</div>"
      ],
      "text/plain": [
       "                                      Company Name Country\n",
       "0  The Fence Authority | Your New Fence Is Waiting     USA"
      ]
     },
     "execution_count": 45,
     "metadata": {},
     "output_type": "execute_result"
    }
   ],
   "source": [
    "data"
   ]
  }
 ],
 "metadata": {
  "kernelspec": {
   "display_name": "Python 3 (ipykernel)",
   "language": "python",
   "name": "python3"
  },
  "language_info": {
   "codemirror_mode": {
    "name": "ipython",
    "version": 3
   },
   "file_extension": ".py",
   "mimetype": "text/x-python",
   "name": "python",
   "nbconvert_exporter": "python",
   "pygments_lexer": "ipython3",
   "version": "3.11.3"
  }
 },
 "nbformat": 4,
 "nbformat_minor": 5
}
