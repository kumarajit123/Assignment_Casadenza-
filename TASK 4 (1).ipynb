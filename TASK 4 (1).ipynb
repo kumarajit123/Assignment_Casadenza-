{
 "cells": [
  {
   "cell_type": "code",
   "execution_count": 4,
   "id": "3200b126",
   "metadata": {},
   "outputs": [
    {
     "name": "stdout",
     "output_type": "stream",
     "text": [
      "Website for FINE SURFACES AND MORE: https://finesurfacesandmore.com/\n"
     ]
    }
   ],
   "source": [
    "                           ############################# Task 4 #######################################\n",
    "\n",
    "from googlesearch import search\n",
    "\n",
    "def find_company_website(company_name):\n",
    "    query = f\"{company_name} official website\"\n",
    "    results = list(search(query, num_results=1)) \n",
    "    return results[0] if results else \"Website not found\"\n",
    "\n",
    "company = \"FINE SURFACES AND MORE\"\n",
    "website = find_company_website(company)\n",
    "print(f\"Website for {company}: {website}\")\n",
    "\n"
   ]
  }
 ],
 "metadata": {
  "kernelspec": {
   "display_name": "Python 3 (ipykernel)",
   "language": "python",
   "name": "python3"
  },
  "language_info": {
   "codemirror_mode": {
    "name": "ipython",
    "version": 3
   },
   "file_extension": ".py",
   "mimetype": "text/x-python",
   "name": "python",
   "nbconvert_exporter": "python",
   "pygments_lexer": "ipython3",
   "version": "3.11.3"
  }
 },
 "nbformat": 4,
 "nbformat_minor": 5
}
